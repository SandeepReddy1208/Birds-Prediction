{
 "cells": [
  {
   "cell_type": "code",
   "execution_count": 1,
   "id": "b1d03abf-59dd-4266-b513-a4c343dabda6",
   "metadata": {},
   "outputs": [],
   "source": [
    "import numpy as np\n",
    "import tensorflow as tf\n",
    "from tensorflow.keras.models import Model, load_model\n",
    "from tensorflow.keras.layers import Dense, GlobalAveragePooling2D, Dropout\n",
    "from tensorflow.keras.applications import MobileNetV2\n",
    "from tensorflow.keras.preprocessing.image import ImageDataGenerator\n",
    "from tensorflow.keras.optimizers import SGD, Adam, RMSprop, Adagrad, Nadam\n",
    "from sklearn.metrics import classification_report\n",
    "import seaborn as sns\n",
    "import matplotlib.pyplot as plt\n",
    "import pickle\n",
    "import random\n",
    "import time\n",
    "import os"
   ]
  },
  {
   "cell_type": "code",
   "execution_count": 2,
   "id": "bd359e7f-19ff-42b9-b052-246cf6d1eff0",
   "metadata": {},
   "outputs": [],
   "source": [
    "train_dir = \"S:/Labs/dl/Birds_25/train\"\n",
    "valid_dir = \"S:/Labs/dl/Birds_25/valid\""
   ]
  },
  {
   "cell_type": "code",
   "execution_count": 3,
   "id": "22b75189-5eeb-4fba-bef8-82d8f301d1d2",
   "metadata": {},
   "outputs": [],
   "source": [
    "IMG_SIZE = (224, 224)\n",
    "BATCH_SIZE = 32\n",
    "EPOCHS = 10  # Initial training epochs"
   ]
  },
  {
   "cell_type": "code",
   "execution_count": 4,
   "id": "64e27d86-15ac-4ad6-9c49-1ef6c762b499",
   "metadata": {},
   "outputs": [],
   "source": [
    "# Data Augmentation\n",
    "datagen = ImageDataGenerator(\n",
    "    rescale=1.0 / 255,\n",
    "    rotation_range=20,\n",
    "    width_shift_range=0.2,\n",
    "    height_shift_range=0.2,\n",
    "    shear_range=0.2,\n",
    "    zoom_range=0.2,\n",
    "    horizontal_flip=True,\n",
    "    fill_mode=\"nearest\"\n",
    ")"
   ]
  },
  {
   "cell_type": "code",
   "execution_count": 5,
   "id": "d3621b36-24e9-4a2c-b9b0-681a1a7ff1b8",
   "metadata": {},
   "outputs": [
    {
     "name": "stdout",
     "output_type": "stream",
     "text": [
      "Found 15000 images belonging to 25 classes.\n",
      "Found 7500 images belonging to 25 classes.\n"
     ]
    }
   ],
   "source": [
    "train_generator = datagen.flow_from_directory(train_dir, target_size=IMG_SIZE, batch_size=BATCH_SIZE, class_mode='categorical', shuffle=True)\n",
    "valid_generator = datagen.flow_from_directory(valid_dir, target_size=IMG_SIZE, batch_size=BATCH_SIZE, class_mode='categorical', shuffle=False)\n",
    "num_classes = len(train_generator.class_indices)"
   ]
  },
  {
   "cell_type": "code",
   "execution_count": 6,
   "id": "b1b072e1-5e32-4ce5-b0b9-0697d4d646c5",
   "metadata": {},
   "outputs": [],
   "source": [
    "# Model Architecture\n",
    "def create_model():\n",
    "    base_model = MobileNetV2(weights=\"imagenet\", include_top=False, input_shape=(224, 224, 3))\n",
    "    base_model.trainable = False\n",
    "    x = GlobalAveragePooling2D()(base_model.output)\n",
    "    x = Dense(256, activation=\"relu\")(x)\n",
    "    x = Dropout(0.3)(x)\n",
    "    x = Dense(num_classes, activation=\"softmax\")(x)\n",
    "    model = Model(inputs=base_model.input, outputs=x)\n",
    "    return model"
   ]
  },
  {
   "cell_type": "code",
   "execution_count": 7,
   "id": "0748ce97-2e1d-4e68-b052-be081f80163b",
   "metadata": {},
   "outputs": [],
   "source": [
    "optimizers = {\n",
    "    \"SGD\": SGD(),\n",
    "    \"SGD_momentum\": SGD(momentum=0.9),\n",
    "    \"Adam\": Adam(),\n",
    "    \"Nadam\": Nadam()\n",
    "}"
   ]
  },
  {
   "cell_type": "code",
   "execution_count": null,
   "id": "d95901f6-2dc3-4fac-a3c8-78849e5b6a65",
   "metadata": {},
   "outputs": [
    {
     "name": "stdout",
     "output_type": "stream",
     "text": [
      "\n",
      "Training with SGD optimizer...\n"
     ]
    },
    {
     "name": "stderr",
     "output_type": "stream",
     "text": [
      "C:\\Users\\Sandeep\\anaconda3\\Lib\\site-packages\\keras\\src\\trainers\\data_adapters\\py_dataset_adapter.py:121: UserWarning: Your `PyDataset` class should call `super().__init__(**kwargs)` in its constructor. `**kwargs` can include `workers`, `use_multiprocessing`, `max_queue_size`. Do not pass these arguments to `fit()`, as they will be ignored.\n",
      "  self._warn_if_super_not_called()\n"
     ]
    },
    {
     "name": "stdout",
     "output_type": "stream",
     "text": [
      "Epoch 1/10\n",
      "\u001b[1m469/469\u001b[0m \u001b[32m━━━━━━━━━━━━━━━━━━━━\u001b[0m\u001b[37m\u001b[0m \u001b[1m1176s\u001b[0m 2s/step - accuracy: 0.2631 - loss: 2.6433 - val_accuracy: 0.7036 - val_loss: 1.1613\n",
      "Epoch 2/10\n",
      "\u001b[1m469/469\u001b[0m \u001b[32m━━━━━━━━━━━━━━━━━━━━\u001b[0m\u001b[37m\u001b[0m \u001b[1m1124s\u001b[0m 2s/step - accuracy: 0.6518 - loss: 1.2207 - val_accuracy: 0.7620 - val_loss: 0.8533\n",
      "Epoch 3/10\n",
      "\u001b[1m469/469\u001b[0m \u001b[32m━━━━━━━━━━━━━━━━━━━━\u001b[0m\u001b[37m\u001b[0m \u001b[1m1134s\u001b[0m 2s/step - accuracy: 0.7193 - loss: 0.9506 - val_accuracy: 0.7860 - val_loss: 0.7441\n",
      "Epoch 4/10\n",
      "\u001b[1m469/469\u001b[0m \u001b[32m━━━━━━━━━━━━━━━━━━━━\u001b[0m\u001b[37m\u001b[0m \u001b[1m1133s\u001b[0m 2s/step - accuracy: 0.7565 - loss: 0.8016 - val_accuracy: 0.8032 - val_loss: 0.6855\n",
      "Epoch 5/10\n",
      "\u001b[1m469/469\u001b[0m \u001b[32m━━━━━━━━━━━━━━━━━━━━\u001b[0m\u001b[37m\u001b[0m \u001b[1m1118s\u001b[0m 2s/step - accuracy: 0.7811 - loss: 0.7333 - val_accuracy: 0.8144 - val_loss: 0.6470\n",
      "Epoch 6/10\n",
      "\u001b[1m469/469\u001b[0m \u001b[32m━━━━━━━━━━━━━━━━━━━━\u001b[0m\u001b[37m\u001b[0m \u001b[1m7438s\u001b[0m 16s/step - accuracy: 0.7854 - loss: 0.7030 - val_accuracy: 0.8197 - val_loss: 0.6171\n",
      "Epoch 7/10\n",
      "\u001b[1m469/469\u001b[0m \u001b[32m━━━━━━━━━━━━━━━━━━━━\u001b[0m\u001b[37m\u001b[0m \u001b[1m950s\u001b[0m 2s/step - accuracy: 0.7951 - loss: 0.6692 - val_accuracy: 0.8291 - val_loss: 0.5833\n",
      "Epoch 8/10\n",
      "\u001b[1m469/469\u001b[0m \u001b[32m━━━━━━━━━━━━━━━━━━━━\u001b[0m\u001b[37m\u001b[0m \u001b[1m0s\u001b[0m 653ms/step - accuracy: 0.8128 - loss: 0.6143"
     ]
    }
   ],
   "source": [
    "history_dict = {}\n",
    "train_time_log = {}\n",
    "classification_reports = {}\n",
    "val_scores = {}\n",
    "# Training Loop\n",
    "for opt_name, optimizer in optimizers.items():\n",
    "    print(f\"\\nTraining with {opt_name} optimizer...\")\n",
    "    model = create_model()\n",
    "    model.compile(optimizer=optimizer, loss=\"categorical_crossentropy\", metrics=[\"accuracy\"])\n",
    "\n",
    "    start_time = time.time()\n",
    "    history = model.fit(\n",
    "        train_generator,\n",
    "        validation_data=valid_generator,\n",
    "        epochs=EPOCHS,\n",
    "        verbose=1\n",
    "    )\n",
    "    end_time = time.time()\n",
    "\n",
    "    # Save model and training history\n",
    "    model.save(f\"model_{opt_name}.h5\")\n",
    "    with open(f\"history_{opt_name}.pkl\", \"wb\") as f:\n",
    "        pickle.dump(history.history, f)\n",
    "\n",
    "    # Log metrics\n",
    "    history_dict[opt_name] = history.history\n",
    "    total_time = end_time - start_time\n",
    "    train_time_log[opt_name] = total_time\n",
    "    train_time_log[f\"{opt_name}_time_per_epoch\"] = total_time / EPOCHS\n",
    "    train_time_log[f\"{opt_name}_converge_epoch\"] = np.argmin(history.history['val_loss']) + 1\n",
    "\n",
    "    # Classification report\n",
    "    y_true = valid_generator.classes\n",
    "    y_pred_probs = model.predict(valid_generator)\n",
    "    y_pred = np.argmax(y_pred_probs, axis=1)\n",
    "    class_labels = list(train_generator.class_indices.keys())\n",
    "    report = classification_report(y_true, y_pred, target_names=class_labels, output_dict=True)\n",
    "    classification_reports[opt_name] = report\n",
    "\n",
    "    print(f\"\\nClassification Report for {opt_name}:\\n\", classification_report(y_true, y_pred, target_names=class_labels))\n",
    "\n",
    "    # Evaluate on validation set\n",
    "    val_loss, val_acc = model.evaluate(valid_generator, verbose=1)\n",
    "    val_scores[opt_name] = {\n",
    "        \"val_accuracy\": val_acc * 100,\n",
    "        \"val_loss\": val_loss\n",
    "    }"
   ]
  },
  {
   "cell_type": "code",
   "execution_count": null,
   "id": "e1b96583-96df-4a59-8d49-a635a6a74634",
   "metadata": {},
   "outputs": [],
   "source": [
    "# Plot Training Accuracy\n",
    "plt.figure(figsize=(12, 5))\n",
    "for opt_name, hist in history_dict.items():\n",
    "    plt.plot(hist['accuracy'], label=f'{opt_name} Accuracy')\n",
    "plt.title('Training Accuracy Comparison')\n",
    "plt.xlabel('Epochs')\n",
    "plt.ylabel('Accuracy')\n",
    "plt.legend()\n",
    "plt.show()"
   ]
  },
  {
   "cell_type": "code",
   "execution_count": null,
   "id": "3373652d",
   "metadata": {},
   "outputs": [],
   "source": [
    "# Plot Validation Loss\n",
    "plt.figure(figsize=(12, 5))\n",
    "for opt_name, hist in history_dict.items():\n",
    "    plt.plot(hist['val_loss'], label=f'{opt_name} Validation Loss')\n",
    "plt.title('Validation Loss Comparison')\n",
    "plt.xlabel('Epochs')\n",
    "plt.ylabel('Loss')\n",
    "plt.legend()\n",
    "plt.show()"
   ]
  },
  {
   "cell_type": "code",
   "execution_count": null,
   "id": "7447f344",
   "metadata": {},
   "outputs": [],
   "source": [
    "# Plot Training Time Comparison\n",
    "plt.figure(figsize=(10, 5))\n",
    "plt.bar(train_time_log.keys(), [train_time_log[k] for k in optimizers.keys()], color='skyblue')\n",
    "plt.title('Training Time Comparison')\n",
    "plt.xlabel('Optimizer')\n",
    "plt.ylabel('Time (seconds)')\n",
    "plt.show()"
   ]
  },
  {
   "cell_type": "code",
   "execution_count": null,
   "id": "ccfa657b",
   "metadata": {},
   "outputs": [],
   "source": [
    "# Predictions Visualization (Best Model)\n",
    "best_model = load_model(\"model_Nadam.h5\")  # Change if another model is best\n",
    "image_paths = []\n",
    "true_labels = []\n",
    "\n",
    "for class_name in os.listdir(valid_dir):\n",
    "    class_path = os.path.join(valid_dir, class_name)\n",
    "    if os.path.isdir(class_path):\n",
    "        for img in os.listdir(class_path):\n",
    "            image_paths.append(os.path.join(class_path, img))\n",
    "            true_labels.append(class_name)\n",
    "\n",
    "selected_indices = random.sample(range(len(image_paths)), 10)\n",
    "selected_images = [image_paths[i] for i in selected_indices]\n",
    "selected_labels = [true_labels[i] for i in selected_indices]\n",
    "\n",
    "\n",
    "plt.figure(figsize=(12, 8))\n",
    "for i, img_path in enumerate(selected_images):\n",
    "    img = tf.keras.preprocessing.image.load_img(img_path, target_size=(224, 224))\n",
    "    img_array = tf.keras.preprocessing.image.img_to_array(img) / 255.0\n",
    "    img_array = np.expand_dims(img_array, axis=0)\n",
    "    pred_probs = best_model.predict(img_array)\n",
    "    pred_class = np.argmax(pred_probs)\n",
    "    predicted_label = class_labels[pred_class]\n",
    "    plt.subplot(2, 5, i + 1)\n",
    "    plt.imshow(img)\n",
    "    plt.axis(\"off\")\n",
    "    color = \"green\" if predicted_label == selected_labels[i] else \"red\"\n",
    "    plt.title(f\"Pred: {predicted_label}\\nTrue: {selected_labels[i]}\", color=color)\n",
    "plt.tight_layout()\n",
    "plt.show()"
   ]
  },
  {
   "cell_type": "code",
   "execution_count": null,
   "id": "ec8ae5f9-721f-4556-8044-9475c4055d6b",
   "metadata": {},
   "outputs": [],
   "source": [
    "# Summary Table\n",
    "print(\"\\nOptimizer Training Summary:\")\n",
    "print(f\"{'Optimizer':<15}{'Val Accuracy (%)':<18}{'Val Loss':<12}{'Total Time (s)':<18}{'Time/Epoch (s)':<18}{'Converged Epoch':<17}\")\n",
    "for opt_name in optimizers.keys():\n",
    "    val_acc = val_scores[opt_name][\"val_accuracy\"]\n",
    "    val_loss = val_scores[opt_name][\"val_loss\"]\n",
    "    total_time = train_time_log[opt_name]\n",
    "    time_per_epoch = train_time_log[f\"{opt_name}_time_per_epoch\"]\n",
    "    converge_epoch = train_time_log[f\"{opt_name}_converge_epoch\"]\n",
    "    print(f\"{opt_name:<15}{val_acc:<18.2f}{val_loss:<12.4f}{total_time:<18.2f}{time_per_epoch:<18.2f}{converge_epoch:<17}\")"
   ]
  },
  {
   "cell_type": "code",
   "execution_count": null,
   "id": "ed2e7991-3f88-4e7f-9800-f5f81a6646f9",
   "metadata": {},
   "outputs": [],
   "source": []
  }
 ],
 "metadata": {
  "kernelspec": {
   "display_name": "Python 3 (ipykernel)",
   "language": "python",
   "name": "python3"
  },
  "language_info": {
   "codemirror_mode": {
    "name": "ipython",
    "version": 3
   },
   "file_extension": ".py",
   "mimetype": "text/x-python",
   "name": "python",
   "nbconvert_exporter": "python",
   "pygments_lexer": "ipython3",
   "version": "3.12.7"
  }
 },
 "nbformat": 4,
 "nbformat_minor": 5
}
